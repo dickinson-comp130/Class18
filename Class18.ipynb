{
 "cells": [
  {
   "cell_type": "markdown",
   "metadata": {},
   "source": [
    "# Class 18 - User Defined Fruitful Functions \n",
    "**COMP130 - Introduction to Computing**  \n",
    "**Dickinson College**  "
   ]
  },
  {
   "cell_type": "markdown",
   "metadata": {},
   "source": [
    "### Names:"
   ]
  },
  {
   "cell_type": "markdown",
   "metadata": {},
   "source": []
  },
  {
   "cell_type": "markdown",
   "metadata": {},
   "source": [
    "### Reading Fruitful Functions"
   ]
  },
  {
   "cell_type": "markdown",
   "metadata": {},
   "source": [
    "Consider the following fruitful function:"
   ]
  },
  {
   "cell_type": "code",
   "execution_count": null,
   "metadata": {
    "deletable": false,
    "editable": false
   },
   "outputs": [],
   "source": [
    "def add_em_up(a,b,c):\n",
    "    sum = a + b + c\n",
    "    return sum"
   ]
  },
  {
   "cell_type": "markdown",
   "metadata": {},
   "source": [
    "__Q1:__ How can you tell that `add_em_up` is a fruitful function?"
   ]
  },
  {
   "cell_type": "markdown",
   "metadata": {},
   "source": []
  },
  {
   "cell_type": "markdown",
   "metadata": {},
   "source": [
    "__Q2:__ What value will the `add_em_up` function *return* called with the arguments `5`, `15` and `10`?"
   ]
  },
  {
   "cell_type": "markdown",
   "metadata": {},
   "source": []
  },
  {
   "cell_type": "markdown",
   "metadata": {},
   "source": [
    "__Q3:__ Write one-line statement that uses the `add_em_up` function to add and print the values `3`, `5`, `7` and `9`."
   ]
  },
  {
   "cell_type": "code",
   "execution_count": null,
   "metadata": {},
   "outputs": [],
   "source": []
  },
  {
   "cell_type": "markdown",
   "metadata": {},
   "source": [
    "Consider the following fruitful function:"
   ]
  },
  {
   "cell_type": "code",
   "execution_count": null,
   "metadata": {
    "deletable": false,
    "editable": false
   },
   "outputs": [],
   "source": [
    "def our_own_max(a,b):\n",
    "    if (a > b):\n",
    "        return a   # 1\n",
    "    else:\n",
    "        return b   # 2"
   ]
  },
  {
   "cell_type": "markdown",
   "metadata": {},
   "source": [
    "__Q4:__ Which return statement (#1 or #2) would be executed by `x=our_own_max(3,5)`."
   ]
  },
  {
   "cell_type": "markdown",
   "metadata": {},
   "source": []
  },
  {
   "cell_type": "markdown",
   "metadata": {},
   "source": [
    "__Q5:__ Which return statement (#1 or #2) would be executed by `x=our_own_max(7,7)`."
   ]
  },
  {
   "cell_type": "markdown",
   "metadata": {},
   "source": []
  },
  {
   "cell_type": "markdown",
   "metadata": {},
   "source": [
    "__Q6:__ Write a one-line statement that uses the `our_own_max` function to find and print the maximum of the three numbers `5`, `11` and `8`."
   ]
  },
  {
   "cell_type": "code",
   "execution_count": null,
   "metadata": {},
   "outputs": [],
   "source": []
  },
  {
   "cell_type": "markdown",
   "metadata": {},
   "source": [
    "### Writing Fruitful Functions"
   ]
  },
  {
   "cell_type": "markdown",
   "metadata": {},
   "source": [
    "__Q6:__ Consider the Python statements below:\n",
    "```Python\n",
    "length = math.sqrt(square)\n",
    "return length\n",
    "def hypotenuse_length(side1, side2):\n",
    "square = side1**2 + side2**2\n",
    "```\n",
    "Rearrange these statements into the code cell below to define a fruitful function that computes the length of the hypotenuse of a right triangle with side lengths `side1` and `side2`."
   ]
  },
  {
   "cell_type": "code",
   "execution_count": null,
   "metadata": {},
   "outputs": [],
   "source": []
  },
  {
   "cell_type": "markdown",
   "metadata": {},
   "source": [
    "__Q7:__ Write a fruitful function named `Fahrenheit_to_Celsius` that takes a temperature in degrees Fahrenheit as an argument and returns the equivalent temperature in degrees Celsius."
   ]
  },
  {
   "cell_type": "code",
   "execution_count": null,
   "metadata": {},
   "outputs": [],
   "source": []
  },
  {
   "cell_type": "markdown",
   "metadata": {},
   "source": [
    "__Q8:__ Write a program that uses your function from __Q7__ that:\n",
    "- Prompts the user for a temperature in Fahrenheit.\n",
    "- Converts the temperature to Celsius.\n",
    "- Prints the temperature in Celsius."
   ]
  },
  {
   "cell_type": "code",
   "execution_count": null,
   "metadata": {},
   "outputs": [],
   "source": []
  },
  {
   "cell_type": "markdown",
   "metadata": {},
   "source": [
    "__Q9:__ Write a fruitful function named `get_letter_grade` that takes in a percentage as an integer (e.g. 88 for 88%) and returns the corresponding letter grade assuming the following scale:\n",
    "- 90-100 is an A\n",
    "- 80-90 is a B\n",
    "- 70-80 is a C\n",
    "- All other scores receive an \"X\" grade.\n",
    "\n",
    "Hint: You have 4 mutually exclusive options... so a *chained conditional* seems like a good choice."
   ]
  },
  {
   "cell_type": "code",
   "execution_count": null,
   "metadata": {},
   "outputs": [],
   "source": []
  },
  {
   "cell_type": "markdown",
   "metadata": {},
   "source": [
    "__Q10:__ Write a program that uses your function from __Q9__ that:\n",
    "- Prompts the user for a grade percentage.\n",
    "- Computes the corresponding letter grade.\n",
    "- Prints the letter grade."
   ]
  },
  {
   "cell_type": "markdown",
   "metadata": {},
   "source": [
    "### Fruitful Functions and `None`"
   ]
  },
  {
   "cell_type": "markdown",
   "metadata": {},
   "source": [
    "The value of a fruitful function is given by the value specified in the `return` statement.  However, it is possible to write functions that sometimes return a value and sometimes do not.  This is not usually done on purpose, but can happen quite easily by accident.  The questions in this section explore this possibility and its implications."
   ]
  },
  {
   "cell_type": "markdown",
   "metadata": {},
   "source": [
    "Consider the following fruitful function:"
   ]
  },
  {
   "cell_type": "code",
   "execution_count": null,
   "metadata": {
    "deletable": false,
    "editable": false
   },
   "outputs": [],
   "source": [
    "def get_price(age, price):\n",
    "    if age < 12 or age > 65:\n",
    "        child_sr_price = price * 0.5\n",
    "        return child_sr_price\n",
    "    elif age > 12 and age < 18:\n",
    "        stu_price = price * 0.75\n",
    "        return stu_price\n",
    "    elif age > 18 and age < 65:\n",
    "        return price"
   ]
  },
  {
   "cell_type": "markdown",
   "metadata": {},
   "source": [
    "__Q11:__ What are the smallest and largest values of `age` that will cause this function to return the student price?"
   ]
  },
  {
   "cell_type": "markdown",
   "metadata": {},
   "source": []
  },
  {
   "cell_type": "markdown",
   "metadata": {},
   "source": [
    "__Q12:__ Write a statement that calls `get_price` with an age of 12."
   ]
  },
  {
   "cell_type": "code",
   "execution_count": null,
   "metadata": {},
   "outputs": [],
   "source": []
  },
  {
   "cell_type": "markdown",
   "metadata": {},
   "source": [
    "__Q13:__ What value is returned from the call in __Q12__ call? Why is that value returned?  Hint: What statement gives the call to a fruitful function its value?"
   ]
  },
  {
   "cell_type": "code",
   "execution_count": null,
   "metadata": {},
   "outputs": [],
   "source": []
  },
  {
   "cell_type": "markdown",
   "metadata": {},
   "source": [
    "__Q14:__ What other values that will cause the `get_price` function to return `None`?"
   ]
  },
  {
   "cell_type": "markdown",
   "metadata": {},
   "source": []
  },
  {
   "cell_type": "markdown",
   "metadata": {},
   "source": [
    "__Q15:__ Rewrite the `get_price` function such that it returns a value for every possible age. In addition to the discounts already given. Your rewritten function should ensure those age 12 or 65 receive discounts and that those age 18 pay the regular price.  The best solution will eliminate one of the `elif` conditions and add an `else` branch."
   ]
  },
  {
   "cell_type": "code",
   "execution_count": null,
   "metadata": {},
   "outputs": [],
   "source": []
  },
  {
   "cell_type": "markdown",
   "metadata": {},
   "source": [
    "### `return` Statements and Dead Code"
   ]
  },
  {
   "cell_type": "markdown",
   "metadata": {},
   "source": [
    "We know that the execution of a function ends as soon as a `return` statement is executed.  This can lead to functions containing statements that can never be executed.  These statements are known as *dead code*.  Dead code never executes, so it is not written on purpose.  But it does happen by accident sometimes and can lead to confusion.  The questions in this section look at a few ways in which dead code can appears and how to find it."
   ]
  },
  {
   "cell_type": "markdown",
   "metadata": {},
   "source": [
    "__Q16:__ Run the program below:"
   ]
  },
  {
   "cell_type": "code",
   "execution_count": null,
   "metadata": {},
   "outputs": [],
   "source": [
    "def dead_func(a):\n",
    "    print(\"Entering dead_func\")\n",
    "    return a*2\n",
    "    print(\"Leaving dead_func\")\n",
    "    \n",
    "x = dead_func(7)"
   ]
  },
  {
   "cell_type": "markdown",
   "metadata": {},
   "source": [
    "Briefly explain why `Leaving dead_func` is not printed."
   ]
  },
  {
   "cell_type": "markdown",
   "metadata": {},
   "source": []
  },
  {
   "cell_type": "markdown",
   "metadata": {},
   "source": [
    "__Q17:__ Now consider the following program:"
   ]
  },
  {
   "cell_type": "code",
   "execution_count": null,
   "metadata": {},
   "outputs": [],
   "source": [
    "def is_salt_water(salinity):\n",
    "    print(\"Line 1\")\n",
    "    \n",
    "    if salinity > 0.05:\n",
    "        print(\"Line 2\")\n",
    "        return True\n",
    "        print(\"Line 3\")\n",
    "    else:\n",
    "        print(\"Line 4\")\n",
    "        return 'False'\n",
    "        print(\"Line 5\")\n",
    "\n",
    "    print(\"Line 6\")"
   ]
  },
  {
   "cell_type": "markdown",
   "metadata": {},
   "source": [
    "Which lines in the above program are *dead code*?"
   ]
  },
  {
   "cell_type": "markdown",
   "metadata": {},
   "source": []
  },
  {
   "cell_type": "markdown",
   "metadata": {},
   "source": [
    "### Boolean Functions"
   ]
  },
  {
   "cell_type": "markdown",
   "metadata": {},
   "source": [
    "__Q18:__ A number of our examples have relied on checking if a person's age qualifies them as student.  Since this code appears over and over again it seems like it could be a good *unit of useful work* that could be encapsulated.  Write a function called `is_student` that takes an age as an argument and returns true if the age qualifies as a student.  For the purposes of this question, assume that ages from 11 to 17 inclusive qualify as a student."
   ]
  },
  {
   "cell_type": "code",
   "execution_count": null,
   "metadata": {},
   "outputs": [],
   "source": []
  },
  {
   "cell_type": "markdown",
   "metadata": {},
   "source": [
    "__Q19:__ In the following program the condition compares the return value from `is_student` to `True`.  Do the following:\n",
    "- run the program to confirm it works.\n",
    "- remove the `== True` from the condition\n",
    "  - so it now reads `if is_student(age)`\n",
    "- run the program again.\n",
    "\n",
    "Does the program still work correctly?  Why?"
   ]
  },
  {
   "cell_type": "code",
   "execution_count": null,
   "metadata": {},
   "outputs": [],
   "source": [
    "age = int(input('How old are you? '))\n",
    "if is_student(age) == True:\n",
    "    print(\"Yep... a student.\")"
   ]
  },
  {
   "cell_type": "markdown",
   "metadata": {},
   "source": [
    "__Q20:__ Rewrite the program in __Q19__ so that it prints `Nope... not a student` if the age does not qualify the person as a student.  The best solution will use the logical `not` operator and will not have an explicit comparison to `False`."
   ]
  },
  {
   "cell_type": "code",
   "execution_count": null,
   "metadata": {},
   "outputs": [],
   "source": []
  },
  {
   "cell_type": "markdown",
   "metadata": {},
   "source": [
    "It turns out that functions like `is_student` in __Q18__ that return `True` under one condition and `False` otherwise are fairly common and can be written very concisely without an `if`/`else` statement.  In the next two questions you will rewrite `is_student` in this way. "
   ]
  },
  {
   "cell_type": "markdown",
   "metadata": {},
   "source": [
    "__Q21__ Write an assignment statement for each of the following operations:\n",
    "1. Sets a variable `over_10` to `True` if `age` is over 10.\n",
    "1. Sets a variable `under_18` to `True` if `age` is under 18.\n",
    "1. Sets a variable `student` to `True` if both `over_10` and `under_18` are `True`.\n",
    "\n",
    "Do not use any `if`/`else` statements for this question."
   ]
  },
  {
   "cell_type": "code",
   "execution_count": null,
   "metadata": {},
   "outputs": [],
   "source": []
  },
  {
   "cell_type": "markdown",
   "metadata": {},
   "source": [
    "__Q22:__ Rewrite your `is_student` function from __Q18__ using the `over_10`, `under_18` and `student` variables from __Q21__.  Your solution should not contain an `if`/`else` statement."
   ]
  },
  {
   "cell_type": "code",
   "execution_count": null,
   "metadata": {},
   "outputs": [],
   "source": []
  },
  {
   "cell_type": "markdown",
   "metadata": {},
   "source": [
    "__Q23:__ Rewrite your `is_student` function one more time.  This time the body of the function sould contain only a `return` statement and a Boolean expression."
   ]
  },
  {
   "cell_type": "code",
   "execution_count": null,
   "metadata": {},
   "outputs": [],
   "source": []
  },
  {
   "cell_type": "markdown",
   "metadata": {},
   "source": [
    "__Q24__ Which verion of `is_student` do you find easiest to understand? Why?"
   ]
  },
  {
   "cell_type": "markdown",
   "metadata": {},
   "source": []
  },
  {
   "cell_type": "markdown",
   "metadata": {},
   "source": [
    "### A Few More Fruitful Functions"
   ]
  },
  {
   "cell_type": "markdown",
   "metadata": {},
   "source": [
    "__Q25:__ Write a function named `max_of_three` that accepts three numeric arguments and returns the largest of the three values. Include 3 calls to your function that show that it works when the largest value is the first, second or third argument."
   ]
  },
  {
   "cell_type": "code",
   "execution_count": null,
   "metadata": {},
   "outputs": [],
   "source": []
  },
  {
   "cell_type": "markdown",
   "metadata": {},
   "source": [
    "__Q26:__ Write a function takes two integer arguments `low` and `high` and returns the sum of all of the integers from `low` to `high` inclusive. For example if `low` is 3 and `high` is 7 then the function will return 3+4+5+6+7 or 25."
   ]
  },
  {
   "cell_type": "code",
   "execution_count": null,
   "metadata": {},
   "outputs": [],
   "source": []
  }
 ],
 "metadata": {
  "kernelspec": {
   "display_name": "Python 3",
   "language": "python",
   "name": "python3"
  },
  "language_info": {
   "codemirror_mode": {
    "name": "ipython",
    "version": 3
   },
   "file_extension": ".py",
   "mimetype": "text/x-python",
   "name": "python",
   "nbconvert_exporter": "python",
   "pygments_lexer": "ipython3",
   "version": "3.7.3"
  }
 },
 "nbformat": 4,
 "nbformat_minor": 2
}
