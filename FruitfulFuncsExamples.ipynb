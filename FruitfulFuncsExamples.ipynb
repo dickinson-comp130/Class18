{
 "cells": [
  {
   "cell_type": "markdown",
   "metadata": {},
   "source": [
    "# Class 18 - User Defined Fruitful Function Examples  \n",
    "**COMP130 - Introduction to Computing**  \n",
    "**Dickinson College**  "
   ]
  },
  {
   "cell_type": "markdown",
   "metadata": {},
   "source": [
    "Up until now all of the user defined functions that we wrote were fruitless (void) functions.  They *encapsulated useful units of work*.  They printed things or drew shapes using the `turtle` or `graphics` modules.  But they did not give us back a value that we could use in later computation.  I.e. they are not like `input`, `max`, `min` or `random.randint` or `math.sqrt`, etc.  Those are fruitful functions and they *return a value* that we can assign to a variable or use for further computations.\n",
    "\n",
    "This class looks at how to create user defined *fruitful functions* that *encapsulate useful computations* and return useful values."
   ]
  },
  {
   "cell_type": "markdown",
   "metadata": {},
   "source": [
    "### Void (Fruitless) Functions\n",
    "\n",
    "Fruitless (`void`) functions do something useful but return `None`."
   ]
  },
  {
   "cell_type": "code",
   "execution_count": null,
   "metadata": {},
   "outputs": [],
   "source": [
    "result = print(\"Hey... I'm fruitless.\")\n",
    "print(result)"
   ]
  },
  {
   "cell_type": "code",
   "execution_count": null,
   "metadata": {},
   "outputs": [],
   "source": [
    "value = print(4 * 3 + 7)\n",
    "print(value)\n",
    "double_value = 2 * value"
   ]
  },
  {
   "cell_type": "markdown",
   "metadata": {},
   "source": [
    "### Fruitful Functions\n",
    "\n",
    "Fruitful functions compute and *return* useful values. These values can be assigned to variables and used in further computations. The program below uses fruitful functions to compute the volume of a cylinder with a specified radius and a randomly generated height. Note: Lots of intermediate variables are used to highight the use of the fruitful functions."
   ]
  },
  {
   "cell_type": "code",
   "execution_count": null,
   "metadata": {},
   "outputs": [],
   "source": [
    "import math\n",
    "import random\n",
    "\n",
    "cyl_r = input(\"Enter cylinder radius: \")\n",
    "cyl_r = float(cyl_r)\n",
    "cyl_h = random.randint(5,15) # random height.\n",
    "\n",
    "# Compute the volume of the cylinder.\n",
    "area = math.pi * cyl_r**2\n",
    "cyl_vol = cyl_h * area\n",
    "cyl_vol_round = round(cyl_vol,2)\n",
    "\n",
    "print(\"Cylinder volume is: \" + str(vol_str))"
   ]
  },
  {
   "cell_type": "markdown",
   "metadata": {},
   "source": [
    "### User Defined Fruitful Functions\n",
    "\n",
    "To define a fruitful function it must contain a `return` statement that specifies the *return value* for the function.  The `cylinder_volume` function defined below is fruitful.  It encapsulates the computation of the volume of a cylinder."
   ]
  },
  {
   "cell_type": "code",
   "execution_count": null,
   "metadata": {},
   "outputs": [],
   "source": [
    "def cylinder_volume(radius, height):\n",
    "    area = math.pi * radius**2\n",
    "    volume = area * height\n",
    "    return volume"
   ]
  },
  {
   "cell_type": "code",
   "execution_count": null,
   "metadata": {},
   "outputs": [],
   "source": [
    "import math\n",
    "import random\n",
    "\n",
    "cyl_r = float(input(\"Enter cylinder radius: \"))\n",
    "cyl_h = cyl_h = random.randint(5,15) # random height.\n",
    "\n",
    "cyl_v = cylinder_volume(cyl_r, cyl_h)\n",
    "\n",
    "print(\"Cylinder volume is: \" + str(round(cyl_v,2)))"
   ]
  },
  {
   "cell_type": "markdown",
   "metadata": {},
   "source": [
    "The value specified by the `return` statement can be specified by any Python expression.  So the above `cylinder_volume` function could be rewritten as:"
   ]
  },
  {
   "cell_type": "code",
   "execution_count": null,
   "metadata": {},
   "outputs": [],
   "source": [
    "def cylinder_volume(radius, height):\n",
    "    return math.pi * radius**2 * height"
   ]
  },
  {
   "cell_type": "markdown",
   "metadata": {},
   "source": [
    "### Dead Code"
   ]
  },
  {
   "cell_type": "markdown",
   "metadata": {},
   "source": [
    "When execution of a function reaches a return statement the function terminates and the value is returned.  No other code in the function will execute."
   ]
  },
  {
   "cell_type": "code",
   "execution_count": null,
   "metadata": {},
   "outputs": [],
   "source": [
    "def cylinder_volume(radius, height):\n",
    "    print(\"I'm not yet dead!\")\n",
    "    return math.pi * radius**2 * height\n",
    "    print(\"Now I'm dead.\")"
   ]
  },
  {
   "cell_type": "code",
   "execution_count": null,
   "metadata": {},
   "outputs": [],
   "source": [
    "print(cylinder_volume(2,5))"
   ]
  },
  {
   "cell_type": "markdown",
   "metadata": {},
   "source": [
    "### Boolean Functions\n",
    "\n",
    "A *Boolean function* is a fruitful function that returns one of the Boolean values (`True` or `False`). \n",
    "\n",
    "For example the following function `is_weekend_day` returns `True` if the specified day is one of the days of the weekend or `False` if it is not."
   ]
  },
  {
   "cell_type": "code",
   "execution_count": null,
   "metadata": {},
   "outputs": [],
   "source": [
    "def is_weekend(day_name):\n",
    "    if (day_name == 'Saturday') or (day_name == 'Sunday'):\n",
    "        return True\n",
    "    else:\n",
    "        return False"
   ]
  },
  {
   "cell_type": "markdown",
   "metadata": {},
   "source": [
    "Boolean functions are often used as the condition in an `if` statement.  As such they are usually named in such a way that their name makes semantic sense in that context.  That is, their name implies that the result is either `True` or `False` (e.g. `is_weekend` here or `isdown` in the `Turtle` class)."
   ]
  },
  {
   "cell_type": "code",
   "execution_count": null,
   "metadata": {},
   "outputs": [],
   "source": [
    "day = input(\"What day is it? \")\n",
    "\n",
    "if is_weekend(day): \n",
    "    print(\"Wooo hooo! It's the weekend!\")\n",
    "else:\n",
    "    print(\":( The weekend will be here soon!\")"
   ]
  },
  {
   "cell_type": "markdown",
   "metadata": {},
   "source": [
    "Like with arithmetic expressions, the value for the `return` statement of a Boolean function can be given by any Boolean expression.  Thus, the following implementation of `is_weekend` has the same functionality as the original above."
   ]
  },
  {
   "cell_type": "code",
   "execution_count": null,
   "metadata": {},
   "outputs": [],
   "source": [
    "def is_weekend(day_name):\n",
    "    return (day_name == 'Saturday') or (day_name == 'Sunday')"
   ]
  },
  {
   "cell_type": "markdown",
   "metadata": {},
   "source": [
    "### Dead Code Reprise"
   ]
  },
  {
   "cell_type": "markdown",
   "metadata": {},
   "source": [
    "When determining when a `return` statement will terminate a function it is the execution path that matters not the order of the statements. "
   ]
  },
  {
   "cell_type": "code",
   "execution_count": null,
   "metadata": {},
   "outputs": [],
   "source": [
    "def is_weekend(day_name):\n",
    "    if (day_name == 'Saturday' or day_name == 'Sunday'):\n",
    "        return True\n",
    "        print(\"Dead code!\")\n",
    "    else:\n",
    "        print(\"Not dead code!\")\n",
    "        return False\n",
    "        print(\"Dead code!\")\n",
    "        \n",
    "    print(\"Dead code!\")"
   ]
  },
  {
   "cell_type": "code",
   "execution_count": null,
   "metadata": {},
   "outputs": [],
   "source": [
    "print(is_weekend(\"Monday\"))"
   ]
  },
  {
   "cell_type": "markdown",
   "metadata": {},
   "source": [
    "Because the execution of a function terminates as soon as a `return` statement is executed the `is_weekend` function can be written in yet one more way."
   ]
  },
  {
   "cell_type": "code",
   "execution_count": 46,
   "metadata": {},
   "outputs": [],
   "source": [
    "def is_weekend(day_name):\n",
    "    if (day_name == 'Saturday' or day_name == 'Sunday'):\n",
    "        return True\n",
    "    \n",
    "    return False"
   ]
  },
  {
   "cell_type": "markdown",
   "metadata": {},
   "source": [
    "This seems the least clear of all of the ways to write `is_weekend` because there is no context for understanding the `return False`.  That said, many programmers use this style so it is worth knowing."
   ]
  }
 ],
 "metadata": {
  "kernelspec": {
   "display_name": "Python 3",
   "language": "python",
   "name": "python3"
  },
  "language_info": {
   "codemirror_mode": {
    "name": "ipython",
    "version": 3
   },
   "file_extension": ".py",
   "mimetype": "text/x-python",
   "name": "python",
   "nbconvert_exporter": "python",
   "pygments_lexer": "ipython3",
   "version": "3.7.3"
  }
 },
 "nbformat": 4,
 "nbformat_minor": 2
}
